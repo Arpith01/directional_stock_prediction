{
  "nbformat": 4,
  "nbformat_minor": 0,
  "metadata": {
    "colab": {
      "name": "sentiment_ngram_features_SVM_LR_NB_final.ipynb",
      "provenance": [],
      "collapsed_sections": [
        "bendhrKWo5PR",
        "rfSRa868o5PR"
      ],
      "toc_visible": true,
      "include_colab_link": true
    },
    "kernelspec": {
      "display_name": "Python 3",
      "language": "python",
      "name": "python3"
    },
    "language_info": {
      "codemirror_mode": {
        "name": "ipython",
        "version": 3
      },
      "file_extension": ".py",
      "mimetype": "text/x-python",
      "name": "python",
      "nbconvert_exporter": "python",
      "pygments_lexer": "ipython3",
      "version": "3.8.5"
    }
  },
  "cells": [
    {
      "cell_type": "markdown",
      "metadata": {
        "id": "view-in-github",
        "colab_type": "text"
      },
      "source": [
        "<a href=\"https://colab.research.google.com/github/Arpith01/directional_stock_prediction/blob/master/notebooks/models/sentiment_ngram_features_SVM_LR_NB_final.ipynb\" target=\"_parent\"><img src=\"https://colab.research.google.com/assets/colab-badge.svg\" alt=\"Open In Colab\"/></a>"
      ]
    },
    {
      "cell_type": "code",
      "metadata": {
        "colab": {
          "base_uri": "https://localhost:8080/"
        },
        "id": "CShGCtZ2o5PH",
        "outputId": "7f97c492-48f2-42b1-dac6-fcd3ab004f01"
      },
      "source": [
        "from sklearn.feature_extraction.text import CountVectorizer\n",
        "from scipy.sparse import hstack\n",
        "import pandas as pd\n",
        "import numpy as np\n",
        "import nltk\n",
        "nltk.downloader.download('vader_lexicon')\n",
        "from nltk.sentiment.vader import SentimentIntensityAnalyzer\n",
        "from tqdm import tqdm\n",
        "import scipy as sp\n",
        "import pickle"
      ],
      "execution_count": 1,
      "outputs": [
        {
          "output_type": "stream",
          "text": [
            "[nltk_data] Downloading package vader_lexicon to /root/nltk_data...\n"
          ],
          "name": "stdout"
        },
        {
          "output_type": "stream",
          "text": [
            "/usr/local/lib/python3.7/dist-packages/nltk/twitter/__init__.py:20: UserWarning: The twython library has not been installed. Some functionality from the twitter package will not be available.\n",
            "  warnings.warn(\"The twython library has not been installed. \"\n"
          ],
          "name": "stderr"
        }
      ]
    },
    {
      "cell_type": "code",
      "metadata": {
        "colab": {
          "base_uri": "https://localhost:8080/"
        },
        "id": "0WQgYYWgQarW",
        "outputId": "1d4fa23c-e9d7-4735-8ff4-5257b4e4e0ec"
      },
      "source": [
        "from google.colab import drive\n",
        "drive.mount('/content/drive')"
      ],
      "execution_count": 2,
      "outputs": [
        {
          "output_type": "stream",
          "text": [
            "Mounted at /content/drive\n"
          ],
          "name": "stdout"
        }
      ]
    },
    {
      "cell_type": "code",
      "metadata": {
        "colab": {
          "base_uri": "https://localhost:8080/"
        },
        "id": "ha6krK5wo5PI",
        "outputId": "1873187b-512c-48fd-9c21-d5de86385bcc"
      },
      "source": [
        "amazon_labelled = pd.read_csv('/content/drive/MyDrive/new_data_ARS/Label42223.csv')\n",
        "apple_labelled = pd.read_csv('/content/drive/MyDrive/new_data_ARS/Label377189.csv')\n",
        "# project_data1.shape\n",
        "\n",
        "amazon_labelled = amazon_labelled[amazon_labelled.text.notnull()]\n",
        "apple_labelled = apple_labelled[apple_labelled.text.notnull()]\n",
        "project_data = pd.concat([amazon_labelled, apple_labelled])\n",
        "project_data.shape\n"
      ],
      "execution_count": 3,
      "outputs": [
        {
          "output_type": "execute_result",
          "data": {
            "text/plain": [
              "(419414, 3)"
            ]
          },
          "metadata": {
            "tags": []
          },
          "execution_count": 3
        }
      ]
    },
    {
      "cell_type": "code",
      "metadata": {
        "colab": {
          "base_uri": "https://localhost:8080/"
        },
        "id": "JIU0fVUao5PJ",
        "outputId": "c3e50ed5-561f-40fa-e8c1-6b79b2b735c6"
      },
      "source": [
        "print(\"Total data points in train data\", project_data.shape)\n",
        "print(\"The attributes of data :\", project_data.columns.values)"
      ],
      "execution_count": null,
      "outputs": [
        {
          "output_type": "stream",
          "text": [
            "Total data points in train data (419414, 3)\n",
            "The attributes of data : ['Unnamed: 0' 'text' 'label']\n"
          ],
          "name": "stdout"
        }
      ]
    },
    {
      "cell_type": "code",
      "metadata": {
        "colab": {
          "base_uri": "https://localhost:8080/",
          "height": 359
        },
        "id": "Gr9HNeo7o5PJ",
        "outputId": "2c04de85-4fc8-47b5-909c-cc131ff9a73b"
      },
      "source": [
        "project_data.head(10)\n",
        "# project_data.drop(['Unnamed: 0'], axis=1, inplace=True)"
      ],
      "execution_count": null,
      "outputs": [
        {
          "output_type": "execute_result",
          "data": {
            "text/html": [
              "<div>\n",
              "<style scoped>\n",
              "    .dataframe tbody tr th:only-of-type {\n",
              "        vertical-align: middle;\n",
              "    }\n",
              "\n",
              "    .dataframe tbody tr th {\n",
              "        vertical-align: top;\n",
              "    }\n",
              "\n",
              "    .dataframe thead th {\n",
              "        text-align: right;\n",
              "    }\n",
              "</style>\n",
              "<table border=\"1\" class=\"dataframe\">\n",
              "  <thead>\n",
              "    <tr style=\"text-align: right;\">\n",
              "      <th></th>\n",
              "      <th>Unnamed: 0</th>\n",
              "      <th>text</th>\n",
              "      <th>label</th>\n",
              "    </tr>\n",
              "  </thead>\n",
              "  <tbody>\n",
              "    <tr>\n",
              "      <th>0</th>\n",
              "      <td>0</td>\n",
              "      <td>amazon soon resum sell appl tv nasdaq aapl goo...</td>\n",
              "      <td>1</td>\n",
              "    </tr>\n",
              "    <tr>\n",
              "      <th>1</th>\n",
              "      <td>1</td>\n",
              "      <td>nyse initi oper checkout line cashier similar ...</td>\n",
              "      <td>1</td>\n",
              "    </tr>\n",
              "    <tr>\n",
              "      <th>2</th>\n",
              "      <td>2</td>\n",
              "      <td>nt fit profil fang stock facebook fb amazoncom...</td>\n",
              "      <td>0</td>\n",
              "    </tr>\n",
              "    <tr>\n",
              "      <th>3</th>\n",
              "      <td>3</td>\n",
              "      <td>appl amazon amzn microsoft alreadi cloudcomput...</td>\n",
              "      <td>0</td>\n",
              "    </tr>\n",
              "    <tr>\n",
              "      <th>4</th>\n",
              "      <td>4</td>\n",
              "      <td>roku stream stick plu offer k hdr play googl a...</td>\n",
              "      <td>0</td>\n",
              "    </tr>\n",
              "    <tr>\n",
              "      <th>5</th>\n",
              "      <td>5</td>\n",
              "      <td>stick plu stream k hdr content get access goog...</td>\n",
              "      <td>0</td>\n",
              "    </tr>\n",
              "    <tr>\n",
              "      <th>6</th>\n",
              "      <td>6</td>\n",
              "      <td>amazon fire tv play k hdr content interact sma...</td>\n",
              "      <td>0</td>\n",
              "    </tr>\n",
              "    <tr>\n",
              "      <th>7</th>\n",
              "      <td>7</td>\n",
              "      <td>roku stream stick plu favorit devic didnt exis...</td>\n",
              "      <td>0</td>\n",
              "    </tr>\n",
              "    <tr>\n",
              "      <th>8</th>\n",
              "      <td>8</td>\n",
              "      <td>latest iter amazon amzn cut fire tv bodi diamo...</td>\n",
              "      <td>0</td>\n",
              "    </tr>\n",
              "    <tr>\n",
              "      <th>9</th>\n",
              "      <td>9</td>\n",
              "      <td>fire tv also come amazon alexa voic assist built</td>\n",
              "      <td>0</td>\n",
              "    </tr>\n",
              "  </tbody>\n",
              "</table>\n",
              "</div>"
            ],
            "text/plain": [
              "   Unnamed: 0                                               text  label\n",
              "0           0  amazon soon resum sell appl tv nasdaq aapl goo...      1\n",
              "1           1  nyse initi oper checkout line cashier similar ...      1\n",
              "2           2  nt fit profil fang stock facebook fb amazoncom...      0\n",
              "3           3  appl amazon amzn microsoft alreadi cloudcomput...      0\n",
              "4           4  roku stream stick plu offer k hdr play googl a...      0\n",
              "5           5  stick plu stream k hdr content get access goog...      0\n",
              "6           6  amazon fire tv play k hdr content interact sma...      0\n",
              "7           7  roku stream stick plu favorit devic didnt exis...      0\n",
              "8           8  latest iter amazon amzn cut fire tv bodi diamo...      0\n",
              "9           9  fire tv also come amazon alexa voic assist built       0"
            ]
          },
          "metadata": {
            "tags": []
          },
          "execution_count": 6
        }
      ]
    },
    {
      "cell_type": "code",
      "metadata": {
        "colab": {
          "base_uri": "https://localhost:8080/"
        },
        "id": "-OFLqrKZo5PK",
        "outputId": "ec387f56-1510-4fd7-9adb-5cdd8dd68e25"
      },
      "source": [
        "y = project_data['label'].values\n",
        "# project_data.drop(['label'], axis=1, inplace=True)\n",
        "print(project_data.head(5))\n",
        "X = project_data.text.values"
      ],
      "execution_count": null,
      "outputs": [
        {
          "output_type": "stream",
          "text": [
            "   Unnamed: 0                                               text  label\n",
            "0           0  amazon soon resum sell appl tv nasdaq aapl goo...      1\n",
            "1           1  nyse initi oper checkout line cashier similar ...      1\n",
            "2           2  nt fit profil fang stock facebook fb amazoncom...      0\n",
            "3           3  appl amazon amzn microsoft alreadi cloudcomput...      0\n",
            "4           4  roku stream stick plu offer k hdr play googl a...      0\n"
          ],
          "name": "stdout"
        }
      ]
    },
    {
      "cell_type": "code",
      "metadata": {
        "colab": {
          "base_uri": "https://localhost:8080/"
        },
        "id": "VnsljyZNo5PK",
        "outputId": "87e8954e-377a-4723-b302-cc470e974974"
      },
      "source": [
        "print(y)\n",
        "print(X)"
      ],
      "execution_count": null,
      "outputs": [
        {
          "output_type": "stream",
          "text": [
            "[1 1 0 ... 1 1 0]\n",
            "['amazon soon resum sell appl tv nasdaq aapl googl chromecast goog pull ecommerc platform two year ago support prime video amzn '\n",
            " 'nyse initi oper checkout line cashier similar fashion futurist amazon go nasdaq amzn store announc year ago yet open public '\n",
            " 'nt fit profil fang stock facebook fb amazoncom amzn netflix nflx alphabetgoogl googl drug intern '\n",
            " ...\n",
            " 'earlier two congressmen sent letter appl ceo tim cook question includ learn issu impact flaw undisclos bug '\n",
            " 'busi insid appl apolog bug last friday fix group facetim secur server issu softwar updat reenabl featur user next '\n",
            " 'take secur product extrem serious commit continu earn trust appl custom place us ']\n"
          ],
          "name": "stdout"
        }
      ]
    },
    {
      "cell_type": "code",
      "metadata": {
        "id": "gPfktdo4o5PK"
      },
      "source": [
        "from sklearn.model_selection import train_test_split\n",
        "X_train, X_test, y_train, y_test = train_test_split(X, y, test_size=0.33, stratify=y)\n",
        "# X_train, X_cv, y_train, y_cv = train_test_split(X_train, y_train, test_size=0.33, stratify=y_train)"
      ],
      "execution_count": null,
      "outputs": []
    },
    {
      "cell_type": "code",
      "metadata": {
        "colab": {
          "base_uri": "https://localhost:8080/",
          "height": 35
        },
        "id": "Owd2F2KyqwqS",
        "outputId": "f0465412-c205-43a0-f25b-ee3fa0fab34d"
      },
      "source": [
        "# print(X_train)\n",
        "# type(X_train)\n",
        "# X_train.shape\n",
        "# X.shape\n",
        "X[0]"
      ],
      "execution_count": null,
      "outputs": [
        {
          "output_type": "execute_result",
          "data": {
            "text/plain": [
              "'amazon soon resum sell appl tv nasdaq aapl googl chromecast goog pull ecommerc platform two year ago support prime video amzn '"
            ]
          },
          "metadata": {
            "tags": []
          },
          "execution_count": 10
        }
      ]
    },
    {
      "cell_type": "markdown",
      "metadata": {
        "id": "H01N6IQ5qyez"
      },
      "source": [
        ""
      ]
    },
    {
      "cell_type": "markdown",
      "metadata": {
        "id": "CxulBYHRo5PK"
      },
      "source": [
        "### *Please Copy the cells below based on your requirement*"
      ]
    },
    {
      "cell_type": "markdown",
      "metadata": {
        "id": "mfDtWGQ6o5PL"
      },
      "source": [
        "# Sentimental Features"
      ]
    },
    {
      "cell_type": "markdown",
      "metadata": {
        "id": "eeMSumiEo5PL"
      },
      "source": [
        "#### If you would like to use additional features i.e., neutral and compound scores apart from positive and negative scores for each text use the code below. similarly, Apple data features can also be extracted."
      ]
    },
    {
      "cell_type": "code",
      "metadata": {
        "colab": {
          "base_uri": "https://localhost:8080/"
        },
        "id": "DtgKs8pLo5PL",
        "outputId": "c9dc4f6e-112f-4e48-d953-99e8e3178f5e"
      },
      "source": [
        "cls = SentimentIntensityAnalyzer()\n",
        "# Q = X_train[\"text\"].copy()\n",
        "Positive_X_train = []\n",
        "Negative_X_train = []\n",
        "Neutral_X_train = []\n",
        "Compound_X_train = []\n",
        "\n",
        "for i in tqdm(X_train):\n",
        "    n1= cls.polarity_scores(i)[\"neg\"]\n",
        "    n2= cls.polarity_scores(i)[\"pos\"]\n",
        "    n3= cls.polarity_scores(i)[\"neu\"]\n",
        "    n4= cls.polarity_scores(i)[\"compound\"]\n",
        "    Positive_X_train.append(n1)\n",
        "    Negative_X_train.append(n2)\n",
        "    Neutral_X_train.append(n3)\n",
        "    Compound_X_train.append(n4)"
      ],
      "execution_count": null,
      "outputs": [
        {
          "output_type": "stream",
          "text": [
            "100%|██████████| 281007/281007 [02:44<00:00, 1710.76it/s]\n"
          ],
          "name": "stderr"
        }
      ]
    },
    {
      "cell_type": "markdown",
      "metadata": {
        "id": "Kr8sQ2xOo5PM"
      },
      "source": [
        "## Train"
      ]
    },
    {
      "cell_type": "code",
      "metadata": {
        "colab": {
          "base_uri": "https://localhost:8080/"
        },
        "id": "DE_AGkeVo5PM",
        "outputId": "00eff1bf-90b8-424f-94c6-464ccc6533c3"
      },
      "source": [
        "# Q = X_train[\"text\"].copy()\n",
        "\n",
        "cls = SentimentIntensityAnalyzer()\n",
        "\n",
        "Positive_X_train_text = []\n",
        "Negative_X_train_text = []\n",
        "\n",
        "for i in tqdm(X_train):\n",
        "    n1= cls.polarity_scores(i)[\"neg\"]\n",
        "    n2= cls.polarity_scores(i)[\"pos\"]\n",
        "    Positive_X_train_text.append(n1)\n",
        "    Negative_X_train_text.append(n2)\n",
        "    "
      ],
      "execution_count": null,
      "outputs": [
        {
          "output_type": "stream",
          "text": [
            "100%|██████████| 281007/281007 [01:22<00:00, 3392.29it/s]\n"
          ],
          "name": "stderr"
        }
      ]
    },
    {
      "cell_type": "code",
      "metadata": {
        "colab": {
          "base_uri": "https://localhost:8080/"
        },
        "id": "aWJRTUQVo5PM",
        "outputId": "283f4540-d086-43d8-cb41-0f42f2aba28f"
      },
      "source": [
        "print(Positive_X_train_text[1000])\n",
        "print(Negative_X_train_text[1000])\n",
        "# print(X_train[\"text\"][1000])"
      ],
      "execution_count": null,
      "outputs": [
        {
          "output_type": "stream",
          "text": [
            "0.0\n",
            "0.306\n"
          ],
          "name": "stdout"
        }
      ]
    },
    {
      "cell_type": "markdown",
      "metadata": {
        "id": "dCE1PCeao5PN"
      },
      "source": [
        "## Test"
      ]
    },
    {
      "cell_type": "code",
      "metadata": {
        "colab": {
          "base_uri": "https://localhost:8080/"
        },
        "id": "0NwXx927o5PN",
        "outputId": "effcfba7-9b5f-4a48-c0d7-ec001139b0eb"
      },
      "source": [
        "cls = SentimentIntensityAnalyzer()\n",
        "\n",
        "Positive_X_test_text = []\n",
        "Negative_X_test_text = []\n",
        "\n",
        "for i in tqdm(X_test):\n",
        "    n1= cls.polarity_scores(i)[\"neg\"]\n",
        "    n2= cls.polarity_scores(i)[\"pos\"]\n",
        "    Positive_X_test_text.append(n1)\n",
        "    Negative_X_test_text.append(n2)\n",
        "    "
      ],
      "execution_count": null,
      "outputs": [
        {
          "output_type": "stream",
          "text": [
            "100%|██████████| 138407/138407 [00:41<00:00, 3352.23it/s]\n"
          ],
          "name": "stderr"
        }
      ]
    },
    {
      "cell_type": "code",
      "metadata": {
        "colab": {
          "base_uri": "https://localhost:8080/"
        },
        "id": "Gum8cJuho5PN",
        "scrolled": true,
        "outputId": "69c3e45d-4bd9-4cd3-db5b-6e5806b7e692"
      },
      "source": [
        "print(Positive_X_test_text[1000])\n",
        "print(Negative_X_test_text[1000])"
      ],
      "execution_count": null,
      "outputs": [
        {
          "output_type": "stream",
          "text": [
            "0.0\n",
            "0.524\n"
          ],
          "name": "stdout"
        }
      ]
    },
    {
      "cell_type": "markdown",
      "metadata": {
        "id": "Zn-ilTYBo5PN"
      },
      "source": [
        "# N-grams "
      ]
    },
    {
      "cell_type": "markdown",
      "metadata": {
        "id": "OQJrd4Z2o5PN"
      },
      "source": [
        "### 2-grams"
      ]
    },
    {
      "cell_type": "markdown",
      "metadata": {
        "id": "kW33kE0ro5PO"
      },
      "source": [
        "#### Considering the words that appeared in atleast 10 documents and top 4000 features considering dimensionality issues."
      ]
    },
    {
      "cell_type": "code",
      "metadata": {
        "id": "0Usl6M7Ao5PO"
      },
      "source": [
        "vectorizer = CountVectorizer(ngram_range = (2,2),max_features = 4000, min_df = 10)\n",
        "\n",
        "X_train_preprocessed_text = X_train\n",
        "X_test_preprocessed_text = X_test\n",
        "\n",
        "X_train_2gram_features = vectorizer.fit_transform(X_train_preprocessed_text)\n"
      ],
      "execution_count": null,
      "outputs": []
    },
    {
      "cell_type": "code",
      "metadata": {
        "id": "6CK2R3cZRP7d"
      },
      "source": [
        "vectorizer_dict = {\"vectorizer\" : vectorizer}"
      ],
      "execution_count": null,
      "outputs": []
    },
    {
      "cell_type": "code",
      "metadata": {
        "id": "04d28Fv9RJJA"
      },
      "source": [
        "import pickle\n",
        "outfile = open('vectorizer','wb')\n",
        "pickle.dump(vectorizer_dict,outfile)\n",
        "outfile.close()"
      ],
      "execution_count": null,
      "outputs": []
    },
    {
      "cell_type": "code",
      "metadata": {
        "id": "cIry4T1Dm8Gp"
      },
      "source": [
        "X_test_2gram_features = vectorizer.transform(X_test_preprocessed_text)"
      ],
      "execution_count": null,
      "outputs": []
    },
    {
      "cell_type": "markdown",
      "metadata": {
        "id": "qyqFYS4zo5PO"
      },
      "source": [
        "### 3-grams"
      ]
    },
    {
      "cell_type": "code",
      "metadata": {
        "id": "B8QBxFjMo5PO"
      },
      "source": [
        "vectorizer = CountVectorizer(ngram_range = (3,3),max_features = 4000, min_df = 10)\n",
        "\n",
        "X_train_preprocessed_text = X_train\n",
        "X_test_preprocessed_text = X_test\n",
        "\n",
        "X_train_3gram_features = vectorizer.fit_transform(X_train_preprocessed_text)\n",
        "X_test_3gram_features = vectorizer.transform(X_test_preprocessed_text)"
      ],
      "execution_count": null,
      "outputs": []
    },
    {
      "cell_type": "markdown",
      "metadata": {
        "id": "lp5qa6yQo5PO"
      },
      "source": [
        "### Merging the features"
      ]
    },
    {
      "cell_type": "code",
      "metadata": {
        "id": "2dZNTokuo5PO"
      },
      "source": [
        "import numpy as np\n",
        "Sentiment_X_train_text = np.column_stack((Positive_X_train_text, Negative_X_train_text))\n",
        "Sentiment_X_test_text = np.column_stack((Positive_X_test_text, Negative_X_test_text))"
      ],
      "execution_count": null,
      "outputs": []
    },
    {
      "cell_type": "code",
      "metadata": {
        "colab": {
          "base_uri": "https://localhost:8080/"
        },
        "id": "RtMAZCfqS3Bz",
        "outputId": "809cb8bf-65d4-4de1-8581-c4d281d9e227"
      },
      "source": [
        "Sentiment_X_train_text.shape"
      ],
      "execution_count": null,
      "outputs": [
        {
          "output_type": "execute_result",
          "data": {
            "text/plain": [
              "(281007, 2)"
            ]
          },
          "metadata": {
            "tags": []
          },
          "execution_count": 22
        }
      ]
    },
    {
      "cell_type": "code",
      "metadata": {
        "id": "wICQp9t0S9zG"
      },
      "source": [
        "X_train_2gram_features_array = X_train_2gram_features.toarray()"
      ],
      "execution_count": null,
      "outputs": []
    },
    {
      "cell_type": "code",
      "metadata": {
        "colab": {
          "base_uri": "https://localhost:8080/"
        },
        "id": "2H6pv2FwTI8G",
        "outputId": "176b46e6-e746-4eda-addd-439bceb95040"
      },
      "source": [
        "X_train_2gram_features_array.shape\n"
      ],
      "execution_count": null,
      "outputs": [
        {
          "output_type": "execute_result",
          "data": {
            "text/plain": [
              "(281007, 4000)"
            ]
          },
          "metadata": {
            "tags": []
          },
          "execution_count": 24
        }
      ]
    },
    {
      "cell_type": "code",
      "metadata": {
        "id": "3s45wDNqo5PO",
        "outputId": "b69cedc9-e1ee-430b-8527-e39ef3ace809"
      },
      "source": [
        "Xtrain = np.concatenate((Sentiment_X_train_text,X_train_2gram_features_array), axis = 1)\n",
        "Xtrain.shape"
      ],
      "execution_count": null,
      "outputs": [
        {
          "output_type": "execute_result",
          "data": {
            "text/plain": [
              "(281007, 4002)"
            ]
          },
          "metadata": {
            "tags": []
          },
          "execution_count": 25
        }
      ]
    },
    {
      "cell_type": "code",
      "metadata": {
        "colab": {
          "base_uri": "https://localhost:8080/",
          "height": 198
        },
        "id": "Nj3lrRFXo5PP",
        "outputId": "121c4c67-5169-44ed-b949-3b56cff2a002"
      },
      "source": [
        "X_test_2gram_features_array = X_test_2gram_features.toarray()\n",
        "Xtest = np.concatenate((Sentiment_X_test_text,X_test_2gram_features_array), axis = 1)\n",
        "Xtest.shape"
      ],
      "execution_count": null,
      "outputs": [
        {
          "output_type": "execute_result",
          "data": {
            "text/plain": [
              "(138407, 4002)"
            ]
          },
          "metadata": {
            "tags": []
          },
          "execution_count": 26
        }
      ]
    },
    {
      "cell_type": "code",
      "metadata": {
        "id": "uRzLiGMAo5PP",
        "outputId": "1fae19f1-29b4-4007-9000-55ade59cd157"
      },
      "source": [
        "y_train.shape"
      ],
      "execution_count": null,
      "outputs": [
        {
          "output_type": "execute_result",
          "data": {
            "text/plain": [
              "(281007,)"
            ]
          },
          "metadata": {
            "tags": []
          },
          "execution_count": 27
        }
      ]
    },
    {
      "cell_type": "code",
      "metadata": {
        "id": "b5dBps-Vo5PP",
        "outputId": "3076ca51-3f27-46e2-be8f-503c14f14ad4"
      },
      "source": [
        "y_test.shape"
      ],
      "execution_count": null,
      "outputs": [
        {
          "output_type": "execute_result",
          "data": {
            "text/plain": [
              "(138407,)"
            ]
          },
          "metadata": {
            "tags": []
          },
          "execution_count": 28
        }
      ]
    },
    {
      "cell_type": "markdown",
      "metadata": {
        "id": "N-ioxTl5o5PQ"
      },
      "source": [
        "## SVM"
      ]
    },
    {
      "cell_type": "code",
      "metadata": {
        "id": "7XHYDf3uo5PQ"
      },
      "source": [
        "import pandas as pd\n",
        "import numpy as np\n",
        "import matplotlib.pyplot as plt\n",
        "%matplotlib inline"
      ],
      "execution_count": null,
      "outputs": []
    },
    {
      "cell_type": "markdown",
      "metadata": {
        "id": "XDwCJjMjo5PQ"
      },
      "source": [
        "#### \"Linear\""
      ]
    },
    {
      "cell_type": "code",
      "metadata": {
        "id": "VYIzlhyTo5PQ"
      },
      "source": [
        "from sklearn.svm import LinearSVC\n",
        "svclassifier = LinearSVC(loss='hinge', verbose=10, max_iter=100000)"
      ],
      "execution_count": null,
      "outputs": []
    },
    {
      "cell_type": "code",
      "metadata": {
        "id": "k17OzPLoQSJQ",
        "outputId": "b1eeb14c-af1f-4832-f7cc-75baee9fb1b8"
      },
      "source": [
        "%%time\n",
        "svclassifier.fit(Xtrain, y_train)"
      ],
      "execution_count": null,
      "outputs": [
        {
          "output_type": "stream",
          "text": [
            "[LibLinear]Wall time: 3min 44s\n"
          ],
          "name": "stdout"
        },
        {
          "output_type": "execute_result",
          "data": {
            "text/plain": [
              "LinearSVC(loss='hinge', max_iter=100000, verbose=10)"
            ]
          },
          "metadata": {
            "tags": []
          },
          "execution_count": 94
        }
      ]
    },
    {
      "cell_type": "code",
      "metadata": {
        "id": "aUyWK8PBo5PQ"
      },
      "source": [
        "y_pred = svclassifier.predict(Xtest)"
      ],
      "execution_count": null,
      "outputs": []
    },
    {
      "cell_type": "code",
      "metadata": {
        "id": "WWoUxY4SXvMt"
      },
      "source": [
        "filename = 'SVM_LinearSVC_1.sav'\n",
        "pickle.dump(svclassifier, open(filename, 'wb'))"
      ],
      "execution_count": null,
      "outputs": []
    },
    {
      "cell_type": "code",
      "metadata": {
        "id": "63LmsIAZo5PQ",
        "outputId": "c28503c2-f4e3-44a5-a3a4-a517c0a756b1"
      },
      "source": [
        "from sklearn.metrics import classification_report, confusion_matrix\n",
        "print(confusion_matrix(y_test,y_pred))\n",
        "print(classification_report(y_test,y_pred))"
      ],
      "execution_count": null,
      "outputs": [
        {
          "output_type": "stream",
          "text": [
            "[[90960  6235]\n",
            " [17999 23213]]\n",
            "              precision    recall  f1-score   support\n",
            "\n",
            "           0       0.83      0.94      0.88     97195\n",
            "           1       0.79      0.56      0.66     41212\n",
            "\n",
            "    accuracy                           0.82    138407\n",
            "   macro avg       0.81      0.75      0.77    138407\n",
            "weighted avg       0.82      0.82      0.82    138407\n",
            "\n"
          ],
          "name": "stdout"
        }
      ]
    },
    {
      "cell_type": "code",
      "metadata": {
        "id": "b-I816glQSJR"
      },
      "source": [
        ""
      ],
      "execution_count": null,
      "outputs": []
    },
    {
      "cell_type": "code",
      "metadata": {
        "id": "ptONnbpOQSJR"
      },
      "source": [
        "from sklearn.svm import LinearSVC\n",
        "svclassifier = LinearSVC(loss='squared_hinge', verbose=10, max_iter=100000) "
      ],
      "execution_count": null,
      "outputs": []
    },
    {
      "cell_type": "code",
      "metadata": {
        "id": "DP5vF6GbQSJR",
        "outputId": "9f0dcbcc-a671-438a-e3df-be458ecafe02"
      },
      "source": [
        "%%time\n",
        "svclassifier.fit(Xtrain, y_train)"
      ],
      "execution_count": null,
      "outputs": [
        {
          "output_type": "stream",
          "text": [
            "[LibLinear]Wall time: 49.3 s\n"
          ],
          "name": "stdout"
        },
        {
          "output_type": "execute_result",
          "data": {
            "text/plain": [
              "LinearSVC(max_iter=1000000, verbose=10)"
            ]
          },
          "metadata": {
            "tags": []
          },
          "execution_count": 89
        }
      ]
    },
    {
      "cell_type": "code",
      "metadata": {
        "id": "NYYy4Lu8QSJR"
      },
      "source": [
        "y_pred = svclassifier.predict(Xtest)"
      ],
      "execution_count": null,
      "outputs": []
    },
    {
      "cell_type": "code",
      "metadata": {
        "id": "AYJluvNaQSJR"
      },
      "source": [
        "filename = 'SVM_LinearSVC_2.sav'\n",
        "pickle.dump(svclassifier, open(filename, 'wb'))"
      ],
      "execution_count": null,
      "outputs": []
    },
    {
      "cell_type": "code",
      "metadata": {
        "id": "Fxg3MW5PQSJR",
        "outputId": "5f09ec1b-f2c9-4883-883a-fbe324e3b77e"
      },
      "source": [
        "from sklearn.metrics import classification_report, confusion_matrix\n",
        "print(confusion_matrix(y_test,y_pred))\n",
        "print(classification_report(y_test,y_pred))"
      ],
      "execution_count": null,
      "outputs": [
        {
          "output_type": "stream",
          "text": [
            "[[90615  6580]\n",
            " [17630 23582]]\n",
            "              precision    recall  f1-score   support\n",
            "\n",
            "           0       0.84      0.93      0.88     97195\n",
            "           1       0.78      0.57      0.66     41212\n",
            "\n",
            "    accuracy                           0.83    138407\n",
            "   macro avg       0.81      0.75      0.77    138407\n",
            "weighted avg       0.82      0.83      0.82    138407\n",
            "\n"
          ],
          "name": "stdout"
        }
      ]
    },
    {
      "cell_type": "code",
      "metadata": {
        "id": "zIL9HYLwQSJS"
      },
      "source": [
        ""
      ],
      "execution_count": null,
      "outputs": []
    },
    {
      "cell_type": "markdown",
      "metadata": {
        "id": "bendhrKWo5PR"
      },
      "source": [
        "#### Gausian Kernel"
      ]
    },
    {
      "cell_type": "code",
      "metadata": {
        "id": "LIBq1AHko5PR"
      },
      "source": [
        "svclassifier = SVC(kernel='rbf') #Gaussian Kernel\n",
        "svclassifier.fit(Xtrain, y_train)"
      ],
      "execution_count": null,
      "outputs": []
    },
    {
      "cell_type": "code",
      "metadata": {
        "id": "2aw3fTkeo5PR"
      },
      "source": [
        "y_pred = svclassifier.predict(Xtest)"
      ],
      "execution_count": null,
      "outputs": []
    },
    {
      "cell_type": "code",
      "metadata": {
        "id": "JjLyYb74YQNn"
      },
      "source": [
        "filename = 'SVM_Gaussian.sav'\n",
        "pickle.dump(svclassifier, open(filename, 'wb'))"
      ],
      "execution_count": null,
      "outputs": []
    },
    {
      "cell_type": "code",
      "metadata": {
        "id": "GAl2Bj61o5PR"
      },
      "source": [
        "print(confusion_matrix(y_test,y_pred))\n",
        "print(classification_report(y_test,y_pred))"
      ],
      "execution_count": null,
      "outputs": []
    },
    {
      "cell_type": "markdown",
      "metadata": {
        "id": "rfSRa868o5PR"
      },
      "source": [
        "#### Sigmoid kernel"
      ]
    },
    {
      "cell_type": "code",
      "metadata": {
        "id": "uxdKExMho5PR"
      },
      "source": [
        "svclassifier = SVC(kernel='sigmoid')\n",
        "svclassifier.fit(Xtrain, y_train)"
      ],
      "execution_count": null,
      "outputs": []
    },
    {
      "cell_type": "code",
      "metadata": {
        "id": "xvUEcRExYTrx"
      },
      "source": [
        "filename = 'SVM_sigmoid.sav'\n",
        "pickle.dump(svclassifier, open(filename, 'wb'))"
      ],
      "execution_count": null,
      "outputs": []
    },
    {
      "cell_type": "code",
      "metadata": {
        "id": "_Nil-ATBo5PS"
      },
      "source": [
        "y_pred = svclassifier.predict(Xtest)"
      ],
      "execution_count": null,
      "outputs": []
    },
    {
      "cell_type": "code",
      "metadata": {
        "id": "BiugWoJjo5PS"
      },
      "source": [
        "print(confusion_matrix(y_test,y_pred))\n",
        "print(classification_report(y_test,y_pred))"
      ],
      "execution_count": null,
      "outputs": []
    },
    {
      "cell_type": "markdown",
      "metadata": {
        "id": "-vMbOamBo5PS"
      },
      "source": [
        "## Logistic Regression"
      ]
    },
    {
      "cell_type": "code",
      "metadata": {
        "id": "bktQo4Iso5PS"
      },
      "source": [
        "from sklearn.linear_model import LogisticRegression\n",
        "model = LogisticRegression(solver='liblinear', random_state=0)"
      ],
      "execution_count": null,
      "outputs": []
    },
    {
      "cell_type": "code",
      "metadata": {
        "id": "maWPBauZo5PT",
        "outputId": "695c10bb-4242-4705-967b-b822f8ce774c"
      },
      "source": [
        "model.fit(Xtrain, y_train)"
      ],
      "execution_count": null,
      "outputs": [
        {
          "output_type": "execute_result",
          "data": {
            "text/plain": [
              "LogisticRegression(random_state=0, solver='liblinear')"
            ]
          },
          "metadata": {
            "tags": []
          },
          "execution_count": 78
        }
      ]
    },
    {
      "cell_type": "code",
      "metadata": {
        "id": "lf_GSoLYYVt8"
      },
      "source": [
        "filename = 'log_reg.sav'\n",
        "pickle.dump(model, open(filename, 'wb'))"
      ],
      "execution_count": null,
      "outputs": []
    },
    {
      "cell_type": "code",
      "metadata": {
        "id": "UT9dOB3Io5PT"
      },
      "source": [
        "y_pred_LR = model.predict(Xtest)"
      ],
      "execution_count": null,
      "outputs": []
    },
    {
      "cell_type": "code",
      "metadata": {
        "id": "YJwNAtE9o5PT",
        "outputId": "c3d70fe6-1765-44f4-bcd6-d629cd5544af"
      },
      "source": [
        "print(confusion_matrix(y_test,y_pred_LR))\n",
        "print(classification_report(y_test,y_pred_LR))"
      ],
      "execution_count": null,
      "outputs": [
        {
          "output_type": "stream",
          "text": [
            "[[90272  6923]\n",
            " [17400 23812]]\n",
            "              precision    recall  f1-score   support\n",
            "\n",
            "           0       0.84      0.93      0.88     97195\n",
            "           1       0.77      0.58      0.66     41212\n",
            "\n",
            "    accuracy                           0.82    138407\n",
            "   macro avg       0.81      0.75      0.77    138407\n",
            "weighted avg       0.82      0.82      0.82    138407\n",
            "\n"
          ],
          "name": "stdout"
        }
      ]
    },
    {
      "cell_type": "markdown",
      "metadata": {
        "id": "OAT5f5EPo5PT"
      },
      "source": [
        "## Naive Bayes"
      ]
    },
    {
      "cell_type": "code",
      "metadata": {
        "id": "ylemJ5Fmo5PT",
        "outputId": "19e335f0-cb34-4b5f-8a1e-c9ec8a5eb315"
      },
      "source": [
        "from sklearn.naive_bayes import GaussianNB\n",
        "model = GaussianNB()\n",
        "model.fit(Xtrain, y_train)"
      ],
      "execution_count": null,
      "outputs": [
        {
          "output_type": "execute_result",
          "data": {
            "text/plain": [
              "GaussianNB()"
            ]
          },
          "metadata": {
            "tags": []
          },
          "execution_count": 84
        }
      ]
    },
    {
      "cell_type": "code",
      "metadata": {
        "id": "6ciwpj_Ao5PT"
      },
      "source": [
        "y_pred_NB = model.predict(Xtest)"
      ],
      "execution_count": null,
      "outputs": []
    },
    {
      "cell_type": "code",
      "metadata": {
        "id": "bOf2SaL4Yc5v"
      },
      "source": [
        "filename = 'naive_bayes.sav'\n",
        "pickle.dump(model, open(filename, 'wb'))"
      ],
      "execution_count": null,
      "outputs": []
    },
    {
      "cell_type": "code",
      "metadata": {
        "id": "SZoLkunXo5PU",
        "outputId": "9358d8b8-556c-42d7-8877-dee364d71604"
      },
      "source": [
        "print(confusion_matrix(y_test,y_pred_NB))\n",
        "print(classification_report(y_test,y_pred_NB))"
      ],
      "execution_count": null,
      "outputs": [
        {
          "output_type": "stream",
          "text": [
            "[[49095 48100]\n",
            " [ 2080 39132]]\n",
            "              precision    recall  f1-score   support\n",
            "\n",
            "           0       0.96      0.51      0.66     97195\n",
            "           1       0.45      0.95      0.61     41212\n",
            "\n",
            "    accuracy                           0.64    138407\n",
            "   macro avg       0.70      0.73      0.64    138407\n",
            "weighted avg       0.81      0.64      0.65    138407\n",
            "\n"
          ],
          "name": "stdout"
        }
      ]
    }
  ]
}