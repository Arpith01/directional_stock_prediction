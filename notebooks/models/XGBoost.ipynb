{
 "cells": [
  {
   "cell_type": "code",
   "execution_count": 1,
   "metadata": {},
   "outputs": [
    {
     "name": "stderr",
     "output_type": "stream",
     "text": [
      "[nltk_data] Downloading package vader_lexicon to\n",
      "[nltk_data]     C:\\Users\\prajw\\AppData\\Roaming\\nltk_data...\n",
      "[nltk_data]   Package vader_lexicon is already up-to-date!\n"
     ]
    }
   ],
   "source": [
    "import warnings\n",
    "warnings.filterwarnings(\"ignore\")\n",
    "from sklearn.feature_extraction.text import CountVectorizer\n",
    "from scipy.sparse import hstack\n",
    "import pandas as pd\n",
    "import nltk\n",
    "import numpy as np\n",
    "nltk.downloader.download('vader_lexicon')\n",
    "from nltk.sentiment.vader import SentimentIntensityAnalyzer\n",
    "from tqdm import tqdm\n",
    "import scipy as sp\n",
    "import os\n",
    "from sklearn.model_selection import train_test_split"
   ]
  },
  {
   "cell_type": "code",
   "execution_count": 2,
   "metadata": {},
   "outputs": [],
   "source": [
    "project_data = pd.read_csv('DATA.csv')\n",
    "project_data.drop(['Unnamed: 0'], axis=1, inplace=True)\n",
    "y = project_data['label'].values\n",
    "project_data.drop(['label'], axis=1, inplace=True)\n",
    "X = project_data"
   ]
  },
  {
   "cell_type": "code",
   "execution_count": 3,
   "metadata": {},
   "outputs": [],
   "source": [
    "from sklearn.model_selection import train_test_split\n",
    "X_train, X_test, y_train, y_test = train_test_split(X, y, test_size=0.33, stratify=y)\n"
   ]
  },
  {
   "cell_type": "markdown",
   "metadata": {},
   "source": [
    "# Sentimental Features"
   ]
  },
  {
   "cell_type": "markdown",
   "metadata": {},
   "source": [
    "## Train"
   ]
  },
  {
   "cell_type": "code",
   "execution_count": 4,
   "metadata": {},
   "outputs": [],
   "source": [
    "Q = X_train[\"text\"].copy()\n",
    "\n",
    "cls = SentimentIntensityAnalyzer()\n",
    "\n",
    "Positive_X_train_text = []\n",
    "Negative_X_train_text = []\n",
    "\n",
    "for i in (Q):\n",
    "    n1= cls.polarity_scores(i)[\"neg\"]\n",
    "    n2= cls.polarity_scores(i)[\"pos\"]\n",
    "    Positive_X_train_text.append(n1)\n",
    "    Negative_X_train_text.append(n2)\n",
    "    "
   ]
  },
  {
   "cell_type": "markdown",
   "metadata": {},
   "source": [
    "## Test"
   ]
  },
  {
   "cell_type": "code",
   "execution_count": 5,
   "metadata": {},
   "outputs": [],
   "source": [
    "Q = X_test[\"text\"].copy()\n",
    "\n",
    "cls = SentimentIntensityAnalyzer()\n",
    "\n",
    "Positive_X_test_text = []\n",
    "Negative_X_test_text = []\n",
    "\n",
    "for i in Q:\n",
    "    n1= cls.polarity_scores(i)[\"neg\"]\n",
    "    n2= cls.polarity_scores(i)[\"pos\"]\n",
    "    Positive_X_test_text.append(n1)\n",
    "    Negative_X_test_text.append(n2)\n",
    "    "
   ]
  },
  {
   "cell_type": "markdown",
   "metadata": {},
   "source": [
    "# N-grams "
   ]
  },
  {
   "cell_type": "markdown",
   "metadata": {},
   "source": [
    "### 2-grams"
   ]
  },
  {
   "cell_type": "code",
   "execution_count": 6,
   "metadata": {},
   "outputs": [],
   "source": [
    "vectorizer = CountVectorizer(ngram_range = (2,2),max_features = 4000, min_df = 10)\n",
    "\n",
    "X_train_preprocessed_text = X_train[\"text\"]\n",
    "X_test_preprocessed_text = X_test[\"text\"]\n",
    "\n",
    "X_train_2gram_features = vectorizer.fit_transform(X_train_preprocessed_text)\n",
    "X_test_2gram_features = vectorizer.transform(X_test_preprocessed_text)"
   ]
  },
  {
   "cell_type": "markdown",
   "metadata": {},
   "source": [
    "### 3-grams"
   ]
  },
  {
   "cell_type": "code",
   "execution_count": 7,
   "metadata": {},
   "outputs": [],
   "source": [
    "vectorizer = CountVectorizer(ngram_range = (3,3),max_features = 4000, min_df = 10)\n",
    "\n",
    "X_train_preprocessed_text = X_train[\"text\"]\n",
    "X_test_preprocessed_text = X_test[\"text\"]\n",
    "\n",
    "X_train_3gram_features = vectorizer.fit_transform(X_train_preprocessed_text)\n",
    "X_test_3gram_features = vectorizer.transform(X_test_preprocessed_text)"
   ]
  },
  {
   "cell_type": "markdown",
   "metadata": {},
   "source": [
    "### 2 grams & 3-grams combined"
   ]
  },
  {
   "cell_type": "code",
   "execution_count": 8,
   "metadata": {},
   "outputs": [],
   "source": [
    "vectorizer = CountVectorizer(ngram_range = (2,3),max_features = 4000, min_df = 10)\n",
    "\n",
    "X_train_preprocessed_text = X_train[\"text\"]\n",
    "X_test_preprocessed_text = X_test[\"text\"]\n",
    "\n",
    "X_train_2_3gram_features = vectorizer.fit_transform(X_train_preprocessed_text)\n",
    "X_test_2_3gram_features = vectorizer.transform(X_test_preprocessed_text)"
   ]
  },
  {
   "cell_type": "markdown",
   "metadata": {},
   "source": [
    "### 2 grams & 3-grams combined(TFIDF)"
   ]
  },
  {
   "cell_type": "code",
   "execution_count": 9,
   "metadata": {},
   "outputs": [],
   "source": [
    "from sklearn.feature_extraction.text import TfidfVectorizer\n",
    "vectorizer = TfidfVectorizer(ngram_range=(2,3),min_df=10,max_features=4000)\n",
    "\n",
    "X_train_preprocessed_text = X_train[\"text\"]\n",
    "X_test_preprocessed_text = X_test[\"text\"]\n",
    "T_train_2_3gram_features = vectorizer.fit_transform(X_train_preprocessed_text)\n",
    "T_test_2_3gram_features = vectorizer.transform(X_test_preprocessed_text)"
   ]
  },
  {
   "cell_type": "markdown",
   "metadata": {},
   "source": [
    "### Merging the features"
   ]
  },
  {
   "cell_type": "markdown",
   "metadata": {},
   "source": [
    "### 2-gram"
   ]
  },
  {
   "cell_type": "code",
   "execution_count": 19,
   "metadata": {},
   "outputs": [],
   "source": [
    "import numpy as np\n",
    "Sentiment_X_train_text = np.column_stack((Positive_X_train_text, Negative_X_train_text))\n",
    "Sentiment_X_test_text = np.column_stack((Positive_X_test_text, Negative_X_test_text))"
   ]
  },
  {
   "cell_type": "code",
   "execution_count": 20,
   "metadata": {},
   "outputs": [],
   "source": [
    "X_train_2gram_array = X_train_2gram_features.toarray()\n",
    "train_2_gram = np.concatenate((Sentiment_X_train_text, X_train_2gram_array), axis=1)\n",
    "X_test_2gram_array = X_test_2gram_features.toarray()\n",
    "test_2_gram = np.concatenate((Sentiment_X_test_text, X_test_2gram_array), axis=1)"
   ]
  },
  {
   "cell_type": "markdown",
   "metadata": {},
   "source": [
    "### 3-grams"
   ]
  },
  {
   "cell_type": "code",
   "execution_count": 21,
   "metadata": {},
   "outputs": [],
   "source": [
    "X_train_3gram_array = X_train_3gram_features.toarray()\n",
    "train_3_gram = np.concatenate((Sentiment_X_train_text, X_train_3gram_array), axis=1)\n",
    "X_test_3gram_array = X_test_3gram_features.toarray()\n",
    "test_3_gram = np.concatenate((Sentiment_X_test_text, X_test_3gram_array), axis=1)"
   ]
  },
  {
   "cell_type": "markdown",
   "metadata": {},
   "source": [
    "### 2 & 3 grams"
   ]
  },
  {
   "cell_type": "code",
   "execution_count": 22,
   "metadata": {},
   "outputs": [],
   "source": [
    "X_train_2_3gram_array = X_train_2_3gram_features.toarray()\n",
    "train_2_3gram = np.concatenate((Sentiment_X_train_text, X_train_2_3gram_array), axis=1)\n",
    "X_test_2_3gram_array = X_test_2_3gram_features.toarray()\n",
    "test_2_3gram = np.concatenate((Sentiment_X_test_text, X_test_2_3gram_array), axis=1)"
   ]
  },
  {
   "cell_type": "markdown",
   "metadata": {},
   "source": [
    "### 2 & 3 grams(TFIDF)"
   ]
  },
  {
   "cell_type": "code",
   "execution_count": 23,
   "metadata": {
    "scrolled": true
   },
   "outputs": [],
   "source": [
    "T_train_2_3gram_array = X_train_2_3gram_features.toarray()\n",
    "T_train_2_3gram = np.concatenate((Sentiment_X_train_text, T_train_2_3gram_array), axis=1)\n",
    "T_test_2_3gram_array = X_test_2_3gram_features.toarray()\n",
    "T_test_2_3gram = np.concatenate((Sentiment_X_test_text, T_test_2_3gram_array), axis=1)"
   ]
  },
  {
   "cell_type": "markdown",
   "metadata": {},
   "source": [
    "### Models"
   ]
  },
  {
   "cell_type": "markdown",
   "metadata": {},
   "source": [
    "### XGBoost with 2 grams"
   ]
  },
  {
   "cell_type": "code",
   "execution_count": 21,
   "metadata": {},
   "outputs": [],
   "source": [
    "params = {\n",
    "        'max_depth': [3, 4, 5, 6, 7, 8],\n",
    "        'eta' : [0.01, 0.02, 0.05, 0.1, 0.2, 0.3],\n",
    "        'n_estimators' : [100, 200, 300, 400, 500],\n",
    "        'gamma': [0, 0.5, 1, 1.5, 2, 5]\n",
    "        }"
   ]
  },
  {
   "cell_type": "code",
   "execution_count": 22,
   "metadata": {},
   "outputs": [
    {
     "name": "stdout",
     "output_type": "stream",
     "text": [
      "Fitting 3 folds for each of 4 candidates, totalling 12 fits\n"
     ]
    },
    {
     "name": "stderr",
     "output_type": "stream",
     "text": [
      "[Parallel(n_jobs=4)]: Using backend LokyBackend with 4 concurrent workers.\n",
      "[Parallel(n_jobs=4)]: Done  12 out of  12 | elapsed: 45.1min remaining:    0.0s\n",
      "[Parallel(n_jobs=4)]: Done  12 out of  12 | elapsed: 45.1min finished\n"
     ]
    },
    {
     "name": "stdout",
     "output_type": "stream",
     "text": [
      "[23:20:07] WARNING: ..\\src\\learner.cc:1061: Starting in XGBoost 1.3.0, the default evaluation metric used with the objective 'binary:logistic' was changed from 'error' to 'logloss'. Explicitly set eval_metric if you'd like to restore the old behavior.\n"
     ]
    },
    {
     "data": {
      "text/plain": [
       "RandomizedSearchCV(cv=<generator object _BaseKFold.split at 0x000002D4D2BE8C80>,\n",
       "                   estimator=XGBClassifier(base_score=None, booster=None,\n",
       "                                           colsample_bylevel=None,\n",
       "                                           colsample_bynode=None,\n",
       "                                           colsample_bytree=None, gamma=None,\n",
       "                                           gpu_id=None, importance_type='gain',\n",
       "                                           interaction_constraints=None,\n",
       "                                           learning_rate=None,\n",
       "                                           max_delta_step=None, max_depth=None,\n",
       "                                           min_child_weight=None, mis...\n",
       "                                           random_state=None, reg_alpha=None,\n",
       "                                           reg_lambda=None,\n",
       "                                           scale_pos_weight=None,\n",
       "                                           subsample=None, tree_method=None,\n",
       "                                           validate_parameters=None,\n",
       "                                           verbosity=None),\n",
       "                   n_iter=4, n_jobs=4,\n",
       "                   param_distributions={'eta': [0.01, 0.02, 0.05, 0.1, 0.2,\n",
       "                                                0.3],\n",
       "                                        'gamma': [0, 0.5, 1, 1.5, 2, 5],\n",
       "                                        'max_depth': [3, 4, 5, 6, 7, 8],\n",
       "                                        'n_estimators': [100, 200, 300, 400,\n",
       "                                                         500]},\n",
       "                   random_state=42, scoring='neg_log_loss', verbose=2)"
      ]
     },
     "execution_count": 22,
     "metadata": {},
     "output_type": "execute_result"
    }
   ],
   "source": [
    "from xgboost.sklearn import XGBClassifier\n",
    "from sklearn.model_selection import StratifiedKFold \n",
    "from sklearn.model_selection import RandomizedSearchCV\n",
    "import xgboost as xgb\n",
    "\n",
    "skf = StratifiedKFold(n_splits=3, shuffle = True, random_state = 42)\n",
    "xgb = XGBClassifier(nthread=1)\n",
    "random_search = RandomizedSearchCV(xgb, param_distributions=params, n_iter=4, scoring='neg_log_loss', n_jobs=4, cv=skf.split(train_2_gram,y_train), verbose=2, random_state=42 )\n",
    "\n",
    "random_search.fit(train_2_gram, y_train)"
   ]
  },
  {
   "cell_type": "code",
   "execution_count": 27,
   "metadata": {},
   "outputs": [
    {
     "name": "stdout",
     "output_type": "stream",
     "text": [
      "\n",
      " Best estimator:\n",
      "XGBClassifier(base_score=0.5, booster='gbtree', colsample_bylevel=1,\n",
      "              colsample_bynode=1, colsample_bytree=1, eta=0.3, gamma=2,\n",
      "              gpu_id=-1, importance_type='gain', interaction_constraints='',\n",
      "              learning_rate=0.300000012, max_delta_step=0, max_depth=7,\n",
      "              min_child_weight=1, missing=nan, monotone_constraints='()',\n",
      "              n_estimators=500, n_jobs=1, nthread=1, num_parallel_tree=1,\n",
      "              random_state=0, reg_alpha=0, reg_lambda=1, scale_pos_weight=1,\n",
      "              subsample=1, tree_method='exact', validate_parameters=1,\n",
      "              verbosity=None)\n",
      "\n",
      " Best hyperparameters:\n",
      "{'n_estimators': 500, 'max_depth': 7, 'gamma': 2, 'eta': 0.3}\n"
     ]
    }
   ],
   "source": [
    "print('\\n Best estimator:')\n",
    "print(random_search.best_estimator_)\n",
    "\n",
    "print('\\n Best hyperparameters:')\n",
    "print(random_search.best_params_)"
   ]
  },
  {
   "cell_type": "code",
   "execution_count": 31,
   "metadata": {},
   "outputs": [],
   "source": [
    "import matplotlib.pyplot as plt\n",
    "import seaborn as sns\n",
    "def plot_confusion_matrix(test_y, predict_y):\n",
    "    C = confusion_matrix(test_y, predict_y)\n",
    "    A =(((C.T)/(C.sum(axis=1))).T)\n",
    "    B =(C/C.sum(axis=0))\n",
    "\n",
    "    plt.figure(figsize=(20,4))\n",
    "    \n",
    "    labels = [0,1]\n",
    "    # representing A in heatmap format\n",
    "    cmap=sns.light_palette(\"blue\")\n",
    "    plt.subplot(1, 3, 1)\n",
    "    sns.heatmap(C, cmap=cmap, fmt=\".3f\",  annot=True,annot_kws={\"size\": 14},xticklabels=labels, yticklabels=labels)\n",
    "    plt.xlabel('Predicted Class')\n",
    "    plt.ylabel('Original Class')\n",
    "    plt.title(\"Confusion matrix\")\n",
    "    \n",
    "    plt.subplot(1, 3, 2)\n",
    "    sns.heatmap(B,  cmap=cmap, fmt=\".3f\", annot=True,annot_kws={\"size\": 14}, xticklabels=labels, yticklabels=labels)\n",
    "    plt.xlabel('Predicted Class')\n",
    "    plt.ylabel('Original Class')\n",
    "    plt.title(\"Precision matrix\")\n",
    "    \n",
    "    plt.subplot(1, 3, 3)\n",
    "    # representing B in heatmap format\n",
    "    sns.heatmap(A,  cmap=cmap, fmt=\".3f\", annot=True,annot_kws={\"size\": 14}, xticklabels=labels, yticklabels=labels)\n",
    "    plt.xlabel('Predicted Class')\n",
    "    plt.ylabel('Original Class')\n",
    "    plt.title(\"Recall matrix\")\n",
    "    \n",
    "    plt.show()"
   ]
  },
  {
   "cell_type": "code",
   "execution_count": 33,
   "metadata": {},
   "outputs": [
    {
     "name": "stdout",
     "output_type": "stream",
     "text": [
      "Total number of test data points : 13934\n"
     ]
    },
    {
     "data": {
      "image/png": "[encoded data removed]",
      "text/plain": [
       "<Figure size 1440x288 with 6 Axes>"
      ]
     },
     "metadata": {
      "needs_background": "light"
     },
     "output_type": "display_data"
    }
   ],
   "source": [
    "from sklearn.metrics import confusion_matrix\n",
    "predicted_y =np.array(predict_y>0.5,dtype=int)\n",
    "print(\"Total number of test data points :\", len(predicted_y))\n",
    "plot_confusion_matrix(y_test, predicted_y)"
   ]
  },
  {
   "cell_type": "markdown",
   "metadata": {},
   "source": [
    "### XGBoost with 3-gram"
   ]
  },
  {
   "cell_type": "code",
   "execution_count": 36,
   "metadata": {},
   "outputs": [],
   "source": [
    "params = {\n",
    "        'max_depth': [3, 4, 5, 6, 7, 8],\n",
    "        'eta' : [0.01, 0.02, 0.05, 0.1, 0.2, 0.3],\n",
    "        'n_estimators' : [100, 200, 300, 400, 500],\n",
    "        'gamma': [0, 0.5, 1, 1.5, 2, 5]\n",
    "        }"
   ]
  },
  {
   "cell_type": "code",
   "execution_count": 37,
   "metadata": {},
   "outputs": [
    {
     "name": "stdout",
     "output_type": "stream",
     "text": [
      "Fitting 3 folds for each of 4 candidates, totalling 12 fits\n"
     ]
    },
    {
     "name": "stderr",
     "output_type": "stream",
     "text": [
      "[Parallel(n_jobs=4)]: Using backend LokyBackend with 4 concurrent workers.\n",
      "[Parallel(n_jobs=4)]: Done  12 out of  12 | elapsed: 26.3min remaining:    0.0s\n",
      "[Parallel(n_jobs=4)]: Done  12 out of  12 | elapsed: 26.3min finished\n"
     ]
    },
    {
     "name": "stdout",
     "output_type": "stream",
     "text": [
      "[00:57:16] WARNING: ..\\src\\learner.cc:1061: Starting in XGBoost 1.3.0, the default evaluation metric used with the objective 'binary:logistic' was changed from 'error' to 'logloss'. Explicitly set eval_metric if you'd like to restore the old behavior.\n"
     ]
    },
    {
     "data": {
      "text/plain": [
       "RandomizedSearchCV(cv=<generator object _BaseKFold.split at 0x000002D4CEF0D580>,\n",
       "                   estimator=XGBClassifier(base_score=None, booster=None,\n",
       "                                           colsample_bylevel=None,\n",
       "                                           colsample_bynode=None,\n",
       "                                           colsample_bytree=None, gamma=None,\n",
       "                                           gpu_id=None, importance_type='gain',\n",
       "                                           interaction_constraints=None,\n",
       "                                           learning_rate=None,\n",
       "                                           max_delta_step=None, max_depth=None,\n",
       "                                           min_child_weight=None, mis...\n",
       "                                           random_state=None, reg_alpha=None,\n",
       "                                           reg_lambda=None,\n",
       "                                           scale_pos_weight=None,\n",
       "                                           subsample=None, tree_method=None,\n",
       "                                           validate_parameters=None,\n",
       "                                           verbosity=None),\n",
       "                   n_iter=4, n_jobs=4,\n",
       "                   param_distributions={'eta': [0.01, 0.02, 0.05, 0.1, 0.2,\n",
       "                                                0.3],\n",
       "                                        'gamma': [0, 0.5, 1, 1.5, 2, 5],\n",
       "                                        'max_depth': [3, 4, 5, 6, 7, 8],\n",
       "                                        'n_estimators': [100, 200, 300, 400,\n",
       "                                                         500]},\n",
       "                   random_state=42, scoring='neg_log_loss', verbose=2)"
      ]
     },
     "execution_count": 37,
     "metadata": {},
     "output_type": "execute_result"
    }
   ],
   "source": [
    "from xgboost.sklearn import XGBClassifier\n",
    "from sklearn.model_selection import StratifiedKFold \n",
    "from sklearn.model_selection import RandomizedSearchCV\n",
    "import xgboost as xgb\n",
    "\n",
    "skf = StratifiedKFold(n_splits=3, shuffle = True, random_state = 42)\n",
    "xgb = XGBClassifier(nthread=1)\n",
    "random_search = RandomizedSearchCV(xgb, param_distributions=params, n_iter=4, scoring='neg_log_loss', n_jobs=4, cv=skf.split(train_3_gram,y_train), verbose=2, random_state=42 )\n",
    "\n",
    "\n",
    "random_search.fit(train_3_gram, y_train)\n",
    " "
   ]
  },
  {
   "cell_type": "code",
   "execution_count": 38,
   "metadata": {},
   "outputs": [
    {
     "name": "stdout",
     "output_type": "stream",
     "text": [
      "\n",
      " Best estimator:\n",
      "XGBClassifier(base_score=0.5, booster='gbtree', colsample_bylevel=1,\n",
      "              colsample_bynode=1, colsample_bytree=1, eta=0.3, gamma=2,\n",
      "              gpu_id=-1, importance_type='gain', interaction_constraints='',\n",
      "              learning_rate=0.300000012, max_delta_step=0, max_depth=7,\n",
      "              min_child_weight=1, missing=nan, monotone_constraints='()',\n",
      "              n_estimators=500, n_jobs=1, nthread=1, num_parallel_tree=1,\n",
      "              random_state=0, reg_alpha=0, reg_lambda=1, scale_pos_weight=1,\n",
      "              subsample=1, tree_method='exact', validate_parameters=1,\n",
      "              verbosity=None)\n",
      "\n",
      " Best hyperparameters:\n",
      "{'n_estimators': 500, 'max_depth': 7, 'gamma': 2, 'eta': 0.3}\n"
     ]
    }
   ],
   "source": [
    "print('\\n Best estimator:')\n",
    "print(random_search.best_estimator_)\n",
    "\n",
    "print('\\n Best hyperparameters:')\n",
    "print(random_search.best_params_)"
   ]
  },
  {
   "cell_type": "code",
   "execution_count": 39,
   "metadata": {},
   "outputs": [
    {
     "name": "stdout",
     "output_type": "stream",
     "text": [
      "[01:27:05] WARNING: ..\\src\\learner.cc:541: \n",
      "Parameters: { n_estimators } might not be used.\n",
      "\n",
      "  This may not be accurate due to some parameters are only used in language bindings but\n",
      "  passed down to XGBoost core.  Or some parameters are not used but slip through this\n",
      "  verification. Please open an issue if you find above cases.\n",
      "\n",
      "\n",
      "[0]\ttrain-logloss:0.59298\tvalid-logloss:0.59446\n",
      "[10]\ttrain-logloss:0.41175\tvalid-logloss:0.42215\n",
      "[20]\ttrain-logloss:0.39675\tvalid-logloss:0.40984\n",
      "[30]\ttrain-logloss:0.38137\tvalid-logloss:0.39718\n",
      "[40]\ttrain-logloss:0.37272\tvalid-logloss:0.39001\n",
      "[50]\ttrain-logloss:0.36408\tvalid-logloss:0.38323\n",
      "[60]\ttrain-logloss:0.35947\tvalid-logloss:0.37984\n",
      "[70]\ttrain-logloss:0.35642\tvalid-logloss:0.37854\n",
      "[80]\ttrain-logloss:0.35244\tvalid-logloss:0.37594\n",
      "[90]\ttrain-logloss:0.34806\tvalid-logloss:0.37234\n",
      "[100]\ttrain-logloss:0.34082\tvalid-logloss:0.36661\n",
      "[110]\ttrain-logloss:0.33367\tvalid-logloss:0.36145\n",
      "[120]\ttrain-logloss:0.33116\tvalid-logloss:0.36012\n",
      "[130]\ttrain-logloss:0.33116\tvalid-logloss:0.36012\n",
      "[140]\ttrain-logloss:0.33116\tvalid-logloss:0.36012\n",
      "[150]\ttrain-logloss:0.33116\tvalid-logloss:0.36012\n",
      "[159]\ttrain-logloss:0.33116\tvalid-logloss:0.36012\n",
      "The test log loss is: 0.3601255329803755\n"
     ]
    }
   ],
   "source": [
    "import xgboost as xgb\n",
    "from sklearn.metrics import log_loss\n",
    "parameters = {}\n",
    "parameters['objective'] = 'binary:logistic'\n",
    "parameters['eval_metric'] = 'logloss'\n",
    "parameters['eta'] = 0.3\n",
    "\n",
    "parameters['max_depth'] = 7\n",
    "parameters['n_estimators'] = 500\n",
    "parameters['gamma'] = 2\n",
    "\n",
    "\n",
    "d_train = xgb.DMatrix(train_3_gram, label= y_train)\n",
    "d_test = xgb.DMatrix(test_3_gram, label=y_test)\n",
    "\n",
    "watchlist = [(d_train, 'train'), (d_test, 'valid')]\n",
    "\n",
    "bst = xgb.train(parameters, d_train, 400, watchlist, early_stopping_rounds=40, verbose_eval=10)\n",
    "\n",
    "xgdmat = xgb.DMatrix(train_3_gram, y_train)\n",
    "predict_y = bst.predict(d_test)\n",
    "print(\"The test log loss is:\",log_loss(y_test, predict_y,  eps=1e-15))"
   ]
  },
  {
   "cell_type": "code",
   "execution_count": 40,
   "metadata": {},
   "outputs": [
    {
     "name": "stdout",
     "output_type": "stream",
     "text": [
      "Total number of test data points : 13934\n"
     ]
    },
    {
     "data": {
      "image/png": "[encoded data removed]",
      "text/plain": [
       "<Figure size 1440x288 with 6 Axes>"
      ]
     },
     "metadata": {
      "needs_background": "light"
     },
     "output_type": "display_data"
    }
   ],
   "source": [
    "from sklearn.metrics import confusion_matrix\n",
    "predicted_y =np.array(predict_y>0.5,dtype=int)\n",
    "print(\"Total number of test data points :\", len(predicted_y))\n",
    "plot_confusion_matrix(y_test, predicted_y)"
   ]
  },
  {
   "cell_type": "markdown",
   "metadata": {},
   "source": [
    "### XGBoost Combined (2 gram and 3 gram)"
   ]
  },
  {
   "cell_type": "code",
   "execution_count": 41,
   "metadata": {},
   "outputs": [],
   "source": [
    "params = {\n",
    "        'max_depth': [3, 4, 5, 6, 7, 8],\n",
    "        'eta' : [0.01, 0.02, 0.05, 0.1, 0.2, 0.3],\n",
    "        'n_estimators' : [100, 200, 300, 400, 500],\n",
    "        'gamma': [0, 0.5, 1, 1.5, 2, 5]\n",
    "        }"
   ]
  },
  {
   "cell_type": "code",
   "execution_count": 42,
   "metadata": {},
   "outputs": [
    {
     "name": "stdout",
     "output_type": "stream",
     "text": [
      "Fitting 3 folds for each of 4 candidates, totalling 12 fits\n"
     ]
    },
    {
     "name": "stderr",
     "output_type": "stream",
     "text": [
      "[Parallel(n_jobs=4)]: Using backend LokyBackend with 4 concurrent workers.\n",
      "[Parallel(n_jobs=4)]: Done  12 out of  12 | elapsed: 38.8min remaining:    0.0s\n",
      "[Parallel(n_jobs=4)]: Done  12 out of  12 | elapsed: 38.8min finished\n"
     ]
    },
    {
     "name": "stdout",
     "output_type": "stream",
     "text": [
      "[02:18:05] WARNING: ..\\src\\learner.cc:1061: Starting in XGBoost 1.3.0, the default evaluation metric used with the objective 'binary:logistic' was changed from 'error' to 'logloss'. Explicitly set eval_metric if you'd like to restore the old behavior.\n"
     ]
    },
    {
     "data": {
      "text/plain": [
       "RandomizedSearchCV(cv=<generator object _BaseKFold.split at 0x000002D4D767C0B0>,\n",
       "                   estimator=XGBClassifier(base_score=None, booster=None,\n",
       "                                           colsample_bylevel=None,\n",
       "                                           colsample_bynode=None,\n",
       "                                           colsample_bytree=None, gamma=None,\n",
       "                                           gpu_id=None, importance_type='gain',\n",
       "                                           interaction_constraints=None,\n",
       "                                           learning_rate=None,\n",
       "                                           max_delta_step=None, max_depth=None,\n",
       "                                           min_child_weight=None, mis...\n",
       "                                           random_state=None, reg_alpha=None,\n",
       "                                           reg_lambda=None,\n",
       "                                           scale_pos_weight=None,\n",
       "                                           subsample=None, tree_method=None,\n",
       "                                           validate_parameters=None,\n",
       "                                           verbosity=None),\n",
       "                   n_iter=4, n_jobs=4,\n",
       "                   param_distributions={'eta': [0.01, 0.02, 0.05, 0.1, 0.2,\n",
       "                                                0.3],\n",
       "                                        'gamma': [0, 0.5, 1, 1.5, 2, 5],\n",
       "                                        'max_depth': [3, 4, 5, 6, 7, 8],\n",
       "                                        'n_estimators': [100, 200, 300, 400,\n",
       "                                                         500]},\n",
       "                   random_state=42, scoring='neg_log_loss', verbose=2)"
      ]
     },
     "execution_count": 42,
     "metadata": {},
     "output_type": "execute_result"
    }
   ],
   "source": [
    "from xgboost.sklearn import XGBClassifier\n",
    "from sklearn.model_selection import StratifiedKFold \n",
    "from sklearn.model_selection import RandomizedSearchCV\n",
    "import xgboost as xgb\n",
    "\n",
    "skf = StratifiedKFold(n_splits=3, shuffle = True, random_state = 42)\n",
    "xgb = XGBClassifier(nthread=1)\n",
    "random_search = RandomizedSearchCV(xgb, param_distributions=params, n_iter=4, scoring='neg_log_loss', n_jobs=4, cv=skf.split(train_2_3gram,y_train), verbose=2, random_state=42 )\n",
    "\n",
    "\n",
    "random_search.fit(train_2_3gram, y_train)\n",
    " "
   ]
  },
  {
   "cell_type": "code",
   "execution_count": 43,
   "metadata": {},
   "outputs": [
    {
     "name": "stdout",
     "output_type": "stream",
     "text": [
      "\n",
      " Best estimator:\n",
      "XGBClassifier(base_score=0.5, booster='gbtree', colsample_bylevel=1,\n",
      "              colsample_bynode=1, colsample_bytree=1, eta=0.3, gamma=2,\n",
      "              gpu_id=-1, importance_type='gain', interaction_constraints='',\n",
      "              learning_rate=0.300000012, max_delta_step=0, max_depth=7,\n",
      "              min_child_weight=1, missing=nan, monotone_constraints='()',\n",
      "              n_estimators=500, n_jobs=1, nthread=1, num_parallel_tree=1,\n",
      "              random_state=0, reg_alpha=0, reg_lambda=1, scale_pos_weight=1,\n",
      "              subsample=1, tree_method='exact', validate_parameters=1,\n",
      "              verbosity=None)\n",
      "\n",
      " Best hyperparameters:\n",
      "{'n_estimators': 500, 'max_depth': 7, 'gamma': 2, 'eta': 0.3}\n"
     ]
    }
   ],
   "source": [
    "print('\\n Best estimator:')\n",
    "print(random_search.best_estimator_)\n",
    "\n",
    "print('\\n Best hyperparameters:')\n",
    "print(random_search.best_params_)"
   ]
  },
  {
   "cell_type": "code",
   "execution_count": 44,
   "metadata": {},
   "outputs": [
    {
     "name": "stdout",
     "output_type": "stream",
     "text": [
      "[02:42:03] WARNING: ..\\src\\learner.cc:541: \n",
      "Parameters: { n_estimators } might not be used.\n",
      "\n",
      "  This may not be accurate due to some parameters are only used in language bindings but\n",
      "  passed down to XGBoost core.  Or some parameters are not used but slip through this\n",
      "  verification. Please open an issue if you find above cases.\n",
      "\n",
      "\n",
      "[0]\ttrain-logloss:0.59298\tvalid-logloss:0.59446\n",
      "[10]\ttrain-logloss:0.41175\tvalid-logloss:0.42215\n",
      "[20]\ttrain-logloss:0.39675\tvalid-logloss:0.40984\n",
      "[30]\ttrain-logloss:0.38137\tvalid-logloss:0.39718\n",
      "[40]\ttrain-logloss:0.37272\tvalid-logloss:0.39001\n",
      "[50]\ttrain-logloss:0.36408\tvalid-logloss:0.38323\n",
      "[60]\ttrain-logloss:0.35947\tvalid-logloss:0.37984\n",
      "[70]\ttrain-logloss:0.35642\tvalid-logloss:0.37854\n",
      "[80]\ttrain-logloss:0.35244\tvalid-logloss:0.37594\n",
      "[90]\ttrain-logloss:0.34806\tvalid-logloss:0.37234\n",
      "[100]\ttrain-logloss:0.34082\tvalid-logloss:0.36661\n",
      "[110]\ttrain-logloss:0.33367\tvalid-logloss:0.36145\n",
      "[120]\ttrain-logloss:0.33116\tvalid-logloss:0.36012\n",
      "[130]\ttrain-logloss:0.33116\tvalid-logloss:0.36012\n",
      "[140]\ttrain-logloss:0.33116\tvalid-logloss:0.36012\n",
      "[150]\ttrain-logloss:0.33116\tvalid-logloss:0.36012\n",
      "[160]\ttrain-logloss:0.33116\tvalid-logloss:0.36012\n",
      "The test log loss is: 0.3601255329803755\n"
     ]
    }
   ],
   "source": [
    "import xgboost as xgb\n",
    "from sklearn.metrics import log_loss\n",
    "parameters = {}\n",
    "parameters['objective'] = 'binary:logistic'\n",
    "parameters['eval_metric'] = 'logloss'\n",
    "parameters['eta'] = 0.3\n",
    "\n",
    "parameters['max_depth'] = 7\n",
    "parameters['n_estimators'] = 500\n",
    "parameters['gamma'] = 2\n",
    "\n",
    "\n",
    "d_train = xgb.DMatrix(train_3_gram, label= y_train)\n",
    "d_test = xgb.DMatrix(test_3_gram, label=y_test)\n",
    "\n",
    "watchlist = [(d_train, 'train'), (d_test, 'valid')]\n",
    "\n",
    "bst = xgb.train(parameters, d_train, 400, watchlist, early_stopping_rounds=40, verbose_eval=10)\n",
    "\n",
    "xgdmat = xgb.DMatrix(train_3_gram, y_train)\n",
    "predict_y = bst.predict(d_test)\n",
    "print(\"The test log loss is:\",log_loss(y_test, predict_y,  eps=1e-15))"
   ]
  },
  {
   "cell_type": "code",
   "execution_count": 45,
   "metadata": {},
   "outputs": [
    {
     "name": "stdout",
     "output_type": "stream",
     "text": [
      "Total number of test data points : 13934\n"
     ]
    },
    {
     "data": {
      "image/png": "[encoded data removed]",
      "text/plain": [
       "<Figure size 1440x288 with 6 Axes>"
      ]
     },
     "metadata": {
      "needs_background": "light"
     },
     "output_type": "display_data"
    }
   ],
   "source": [
    "from sklearn.metrics import confusion_matrix\n",
    "predicted_y =np.array(predict_y>0.5,dtype=int)\n",
    "print(\"Total number of test data points :\", len(predicted_y))\n",
    "plot_confusion_matrix(y_test, predicted_y)"
   ]
  },
  {
   "cell_type": "markdown",
   "metadata": {},
   "source": [
    "### TFIDF"
   ]
  },
  {
   "cell_type": "code",
   "execution_count": 48,
   "metadata": {},
   "outputs": [
    {
     "name": "stdout",
     "output_type": "stream",
     "text": [
      "Fitting 3 folds for each of 4 candidates, totalling 12 fits\n"
     ]
    },
    {
     "name": "stderr",
     "output_type": "stream",
     "text": [
      "[Parallel(n_jobs=4)]: Using backend LokyBackend with 4 concurrent workers.\n",
      "[Parallel(n_jobs=4)]: Done  12 out of  12 | elapsed: 26.8min remaining:    0.0s\n",
      "[Parallel(n_jobs=4)]: Done  12 out of  12 | elapsed: 26.8min finished\n"
     ]
    },
    {
     "name": "stdout",
     "output_type": "stream",
     "text": [
      "[03:21:07] WARNING: ..\\src\\learner.cc:1061: Starting in XGBoost 1.3.0, the default evaluation metric used with the objective 'binary:logistic' was changed from 'error' to 'logloss'. Explicitly set eval_metric if you'd like to restore the old behavior.\n"
     ]
    },
    {
     "data": {
      "text/plain": [
       "RandomizedSearchCV(cv=<generator object _BaseKFold.split at 0x000002D4D767CEB0>,\n",
       "                   estimator=XGBClassifier(base_score=None, booster=None,\n",
       "                                           colsample_bylevel=None,\n",
       "                                           colsample_bynode=None,\n",
       "                                           colsample_bytree=None, gamma=None,\n",
       "                                           gpu_id=None, importance_type='gain',\n",
       "                                           interaction_constraints=None,\n",
       "                                           learning_rate=None,\n",
       "                                           max_delta_step=None, max_depth=None,\n",
       "                                           min_child_weight=None, mis...\n",
       "                                           random_state=None, reg_alpha=None,\n",
       "                                           reg_lambda=None,\n",
       "                                           scale_pos_weight=None,\n",
       "                                           subsample=None, tree_method=None,\n",
       "                                           validate_parameters=None,\n",
       "                                           verbosity=None),\n",
       "                   n_iter=4, n_jobs=4,\n",
       "                   param_distributions={'eta': [0.01, 0.02, 0.05, 0.1, 0.2,\n",
       "                                                0.3],\n",
       "                                        'gamma': [0, 0.5, 1, 1.5, 2, 5],\n",
       "                                        'max_depth': [3, 4, 5, 6, 7, 8],\n",
       "                                        'n_estimators': [100, 200, 300, 400,\n",
       "                                                         500]},\n",
       "                   random_state=42, scoring='neg_log_loss', verbose=2)"
      ]
     },
     "execution_count": 48,
     "metadata": {},
     "output_type": "execute_result"
    }
   ],
   "source": [
    "from xgboost.sklearn import XGBClassifier\n",
    "from sklearn.model_selection import StratifiedKFold \n",
    "from sklearn.model_selection import RandomizedSearchCV\n",
    "import xgboost as xgb\n",
    "\n",
    "skf = StratifiedKFold(n_splits=3, shuffle = True, random_state = 42)\n",
    "xgb = XGBClassifier(nthread=1)\n",
    "random_search = RandomizedSearchCV(xgb, param_distributions=params, n_iter=4, scoring='neg_log_loss', n_jobs=4, cv=skf.split(T_train_2_3gram,y_train), verbose=2, random_state=42 )\n",
    "\n",
    "\n",
    "random_search.fit(T_train_2_3gram, y_train)\n",
    " "
   ]
  },
  {
   "cell_type": "code",
   "execution_count": 49,
   "metadata": {},
   "outputs": [
    {
     "name": "stdout",
     "output_type": "stream",
     "text": [
      "\n",
      " Best estimator:\n",
      "XGBClassifier(base_score=0.5, booster='gbtree', colsample_bylevel=1,\n",
      "              colsample_bynode=1, colsample_bytree=1, eta=0.3, gamma=2,\n",
      "              gpu_id=-1, importance_type='gain', interaction_constraints='',\n",
      "              learning_rate=0.300000012, max_delta_step=0, max_depth=7,\n",
      "              min_child_weight=1, missing=nan, monotone_constraints='()',\n",
      "              n_estimators=500, n_jobs=1, nthread=1, num_parallel_tree=1,\n",
      "              random_state=0, reg_alpha=0, reg_lambda=1, scale_pos_weight=1,\n",
      "              subsample=1, tree_method='exact', validate_parameters=1,\n",
      "              verbosity=None)\n",
      "\n",
      " Best hyperparameters:\n",
      "{'n_estimators': 500, 'max_depth': 7, 'gamma': 2, 'eta': 0.3}\n"
     ]
    }
   ],
   "source": [
    "print('\\n Best estimator:')\n",
    "print(random_search.best_estimator_)\n",
    "\n",
    "print('\\n Best hyperparameters:')\n",
    "print(random_search.best_params_)"
   ]
  },
  {
   "cell_type": "code",
   "execution_count": 50,
   "metadata": {},
   "outputs": [
    {
     "name": "stdout",
     "output_type": "stream",
     "text": [
      "[11:12:12] WARNING: ..\\src\\learner.cc:541: \n",
      "Parameters: { n_estimators } might not be used.\n",
      "\n",
      "  This may not be accurate due to some parameters are only used in language bindings but\n",
      "  passed down to XGBoost core.  Or some parameters are not used but slip through this\n",
      "  verification. Please open an issue if you find above cases.\n",
      "\n",
      "\n",
      "[0]\ttrain-logloss:0.58327\tvalid-logloss:0.58548\n",
      "[10]\ttrain-logloss:0.39581\tvalid-logloss:0.41273\n",
      "[20]\ttrain-logloss:0.37597\tvalid-logloss:0.39782\n",
      "[30]\ttrain-logloss:0.35630\tvalid-logloss:0.38303\n",
      "[40]\ttrain-logloss:0.34742\tvalid-logloss:0.37715\n",
      "[50]\ttrain-logloss:0.33865\tvalid-logloss:0.37226\n",
      "[60]\ttrain-logloss:0.32511\tvalid-logloss:0.36136\n",
      "[70]\ttrain-logloss:0.32041\tvalid-logloss:0.35936\n",
      "[80]\ttrain-logloss:0.31365\tvalid-logloss:0.35487\n",
      "[90]\ttrain-logloss:0.30994\tvalid-logloss:0.35362\n",
      "[100]\ttrain-logloss:0.30675\tvalid-logloss:0.35216\n",
      "[110]\ttrain-logloss:0.29597\tvalid-logloss:0.34461\n",
      "[120]\ttrain-logloss:0.29597\tvalid-logloss:0.34461\n",
      "[130]\ttrain-logloss:0.29597\tvalid-logloss:0.34461\n",
      "[140]\ttrain-logloss:0.29597\tvalid-logloss:0.34461\n",
      "[149]\ttrain-logloss:0.29597\tvalid-logloss:0.34461\n",
      "The test log loss is: 0.3446128945025033\n"
     ]
    }
   ],
   "source": [
    "import xgboost as xgb\n",
    "from sklearn.metrics import log_loss\n",
    "parameters = {}\n",
    "parameters['objective'] = 'binary:logistic'\n",
    "parameters['eval_metric'] = 'logloss'\n",
    "parameters['eta'] = 0.3\n",
    "\n",
    "parameters['max_depth'] = 7\n",
    "parameters['n_estimators'] = 500\n",
    "parameters['gamma'] = 2\n",
    "\n",
    "\n",
    "d_train = xgb.DMatrix(T_train_2_3gram, label= y_train)\n",
    "d_test = xgb.DMatrix(T_test_2_3gram, label=y_test)\n",
    "\n",
    "watchlist = [(d_train, 'train'), (d_test, 'valid')]\n",
    "\n",
    "bst = xgb.train(parameters, d_train, 400, watchlist, early_stopping_rounds=40, verbose_eval=10)\n",
    "\n",
    "xgdmat = xgb.DMatrix(T_train_2_3gram, y_train)\n",
    "predict_y = bst.predict(d_test)\n",
    "print(\"The test log loss is:\",log_loss(y_test, predict_y,  eps=1e-15))"
   ]
  },
  {
   "cell_type": "code",
   "execution_count": 51,
   "metadata": {},
   "outputs": [
    {
     "name": "stdout",
     "output_type": "stream",
     "text": [
      "Total number of test data points : 13934\n"
     ]
    },
    {
     "data": {
      "image/png": "[encoded data removed]",
      "text/plain": [
       "<Figure size 1440x288 with 6 Axes>"
      ]
     },
     "metadata": {
      "needs_background": "light"
     },
     "output_type": "display_data"
    }
   ],
   "source": [
    "from sklearn.metrics import confusion_matrix\n",
    "predicted_y =np.array(predict_y>0.5,dtype=int)\n",
    "print(\"Total number of test data points :\", len(predicted_y))\n",
    "plot_confusion_matrix(y_test, predicted_y)"
   ]
  }
 ],
 "metadata": {
  "kernelspec": {
   "display_name": "Python 3",
   "language": "python",
   "name": "python3"
  },
  "language_info": {
   "codemirror_mode": {
    "name": "ipython",
    "version": 3
   },
   "file_extension": ".py",
   "mimetype": "text/x-python",
   "name": "python",
   "nbconvert_exporter": "python",
   "pygments_lexer": "ipython3",
   "version": "3.8.5"
  }
 },
 "nbformat": 4,
 "nbformat_minor": 4
}
